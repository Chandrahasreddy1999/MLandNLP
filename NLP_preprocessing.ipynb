{
 "cells": [
  {
   "cell_type": "code",
   "execution_count": 11,
   "id": "d393f18b-b22d-49e5-b960-8f6434969676",
   "metadata": {},
   "outputs": [
    {
     "name": "stdout",
     "output_type": "stream",
     "text": [
      "Defaulting to user installation because normal site-packages is not writeable\n",
      "Requirement already satisfied: nltk in c:\\programdata\\anaconda3\\lib\\site-packages (3.8.1)\n",
      "Requirement already satisfied: click in c:\\programdata\\anaconda3\\lib\\site-packages (from nltk) (8.1.7)\n",
      "Requirement already satisfied: joblib in c:\\programdata\\anaconda3\\lib\\site-packages (from nltk) (1.2.0)\n",
      "Requirement already satisfied: regex>=2021.8.3 in c:\\programdata\\anaconda3\\lib\\site-packages (from nltk) (2023.10.3)\n",
      "Requirement already satisfied: tqdm in c:\\programdata\\anaconda3\\lib\\site-packages (from nltk) (4.65.0)\n",
      "Requirement already satisfied: colorama in c:\\programdata\\anaconda3\\lib\\site-packages (from click->nltk) (0.4.6)\n"
     ]
    }
   ],
   "source": [
    "!pip install nltk\n"
   ]
  },
  {
   "cell_type": "markdown",
   "id": "b4239b3a-debf-43db-9eb9-012fd04e30f1",
   "metadata": {},
   "source": [
    "## Tokenization"
   ]
  },
  {
   "cell_type": "code",
   "execution_count": 58,
   "id": "51c1e77c-c8f5-4799-857b-47b80c97746f",
   "metadata": {},
   "outputs": [],
   "source": [
    "corpus=\"\"\"\" Hello world, my name is chandrahas. can I start you tube!\n",
    "I am learning NLP.\n",
    "\"\"\""
   ]
  },
  {
   "cell_type": "code",
   "execution_count": 59,
   "id": "540282fe-b747-488b-acba-87ec4326f30f",
   "metadata": {},
   "outputs": [
    {
     "data": {
      "text/plain": [
       "'\" Hello world, my name is chandrahas. can I start you tube!\\nI am learning NLP.\\n'"
      ]
     },
     "execution_count": 59,
     "metadata": {},
     "output_type": "execute_result"
    }
   ],
   "source": [
    "corpus"
   ]
  },
  {
   "cell_type": "code",
   "execution_count": 60,
   "id": "2f643452-6a08-48d4-a2c2-50a610dd54a5",
   "metadata": {},
   "outputs": [
    {
     "name": "stdout",
     "output_type": "stream",
     "text": [
      "\" Hello world, my name is chandrahas. can I start you tube!\n",
      "I am learning NLP.\n",
      "\n"
     ]
    }
   ],
   "source": [
    "print(corpus)"
   ]
  },
  {
   "cell_type": "code",
   "execution_count": 139,
   "id": "daddcaa6-a028-4bbf-93df-9ade42774d46",
   "metadata": {},
   "outputs": [
    {
     "name": "stderr",
     "output_type": "stream",
     "text": [
      "[nltk_data] Downloading package punkt to\n",
      "[nltk_data]     C:\\Users\\2252288\\AppData\\Roaming\\nltk_data...\n",
      "[nltk_data]   Package punkt is already up-to-date!\n"
     ]
    },
    {
     "data": {
      "text/plain": [
       "True"
      ]
     },
     "execution_count": 139,
     "metadata": {},
     "output_type": "execute_result"
    }
   ],
   "source": [
    "## Tokenization\n",
    "## paragraphs--> sentence\n",
    "from nltk.tokenize import sent_tokenize\n",
    "\n",
    "nltk.download(\"punkt\")"
   ]
  },
  {
   "cell_type": "code",
   "execution_count": 62,
   "id": "dc67a18d-e6c3-4997-854e-e06e311fe7a6",
   "metadata": {},
   "outputs": [],
   "source": [
    "document=sent_tokenize(corpus)"
   ]
  },
  {
   "cell_type": "code",
   "execution_count": 63,
   "id": "1eda86de-2c72-473a-bee6-a0537b27fa5b",
   "metadata": {},
   "outputs": [
    {
     "data": {
      "text/plain": [
       "['\" Hello world, my name is chandrahas.',\n",
       " 'can I start you tube!',\n",
       " 'I am learning NLP.']"
      ]
     },
     "execution_count": 63,
     "metadata": {},
     "output_type": "execute_result"
    }
   ],
   "source": [
    "document"
   ]
  },
  {
   "cell_type": "code",
   "execution_count": 64,
   "id": "338d8d22-24ec-4254-9b6c-a77026478cba",
   "metadata": {},
   "outputs": [
    {
     "data": {
      "text/plain": [
       "list"
      ]
     },
     "execution_count": 64,
     "metadata": {},
     "output_type": "execute_result"
    }
   ],
   "source": [
    "type(document)"
   ]
  },
  {
   "cell_type": "code",
   "execution_count": 65,
   "id": "75c6f480-66d7-4bdf-902b-f1c61f26d175",
   "metadata": {},
   "outputs": [
    {
     "name": "stdout",
     "output_type": "stream",
     "text": [
      "\" Hello world, my name is chandrahas.\n",
      "can I start you tube!\n",
      "I am learning NLP.\n"
     ]
    }
   ],
   "source": [
    "for sentences in document:\n",
    "    print(sentences)"
   ]
  },
  {
   "cell_type": "code",
   "execution_count": 66,
   "id": "c85a2f60-3329-4933-88f4-bbc0de86abc7",
   "metadata": {},
   "outputs": [],
   "source": [
    "## Tokenization\n",
    "## paragraph--> words\n",
    "## sentences--> words\n",
    "from nltk.tokenize import word_tokenize"
   ]
  },
  {
   "cell_type": "code",
   "execution_count": 67,
   "id": "cd56f0bc-7651-425b-9fbf-fc0b57263b45",
   "metadata": {},
   "outputs": [
    {
     "data": {
      "text/plain": [
       "['``',\n",
       " 'Hello',\n",
       " 'world',\n",
       " ',',\n",
       " 'my',\n",
       " 'name',\n",
       " 'is',\n",
       " 'chandrahas',\n",
       " '.',\n",
       " 'can',\n",
       " 'I',\n",
       " 'start',\n",
       " 'you',\n",
       " 'tube',\n",
       " '!',\n",
       " 'I',\n",
       " 'am',\n",
       " 'learning',\n",
       " 'NLP',\n",
       " '.']"
      ]
     },
     "execution_count": 67,
     "metadata": {},
     "output_type": "execute_result"
    }
   ],
   "source": [
    "word_tokenize(corpus)"
   ]
  },
  {
   "cell_type": "code",
   "execution_count": 68,
   "id": "08ac153b-8744-4bc9-a8e5-a5ad290da4e1",
   "metadata": {},
   "outputs": [
    {
     "name": "stdout",
     "output_type": "stream",
     "text": [
      "['``', 'Hello', 'world', ',', 'my', 'name', 'is', 'chandrahas', '.']\n",
      "['can', 'I', 'start', 'you', 'tube', '!']\n",
      "['I', 'am', 'learning', 'NLP', '.']\n"
     ]
    }
   ],
   "source": [
    "for sentences in document:\n",
    "    print(word_tokenize(sentences))"
   ]
  },
  {
   "cell_type": "markdown",
   "id": "9fd827f3-26b6-42eb-910e-f2b64e40b1b2",
   "metadata": {},
   "source": [
    "## Stemming"
   ]
  },
  {
   "cell_type": "code",
   "execution_count": 74,
   "id": "44e4246c-a64d-419d-8b33-8b8432fa2445",
   "metadata": {},
   "outputs": [],
   "source": [
    "## Classification Problem\n",
    "## Comments of product is a positive review or negative review\n",
    "## reviews -----> eating,eat,eatin = eat,  [going,gone,goes]=go\n",
    "\n",
    "words=[\"eating\",\"eats\",\"eaten\",\"writing\",\"programming\",\"programs\",\"history\",\"finally\",\"finalized\"]"
   ]
  },
  {
   "cell_type": "markdown",
   "id": "464f0505-8c03-4852-8b20-192dfdc4c542",
   "metadata": {},
   "source": [
    "### PorterStemmer"
   ]
  },
  {
   "cell_type": "code",
   "execution_count": 87,
   "id": "37ec41c4-99e5-4469-9bad-a89fee339deb",
   "metadata": {},
   "outputs": [],
   "source": [
    "from nltk.stem import PorterStemmer"
   ]
  },
  {
   "cell_type": "code",
   "execution_count": 88,
   "id": "7c817534-6737-4a70-97c2-1feff8e45b8a",
   "metadata": {},
   "outputs": [],
   "source": [
    "stemming=PorterStemmer()"
   ]
  },
  {
   "cell_type": "code",
   "execution_count": 91,
   "id": "38a47f09-0b6c-4283-84e4-e1b9f721b57c",
   "metadata": {},
   "outputs": [
    {
     "name": "stdout",
     "output_type": "stream",
     "text": [
      "eating----->eat\n",
      "eats----->eat\n",
      "eaten----->eaten\n",
      "writing----->write\n",
      "programming----->program\n",
      "programs----->program\n",
      "history----->histori\n",
      "finally----->final\n",
      "finalized----->final\n"
     ]
    }
   ],
   "source": [
    "for  word in words:\n",
    "    print(word+\"----->\"+stemming.stem(word))"
   ]
  },
  {
   "cell_type": "code",
   "execution_count": 93,
   "id": "53df19eb-4fa6-4c1a-861b-a38119b37b04",
   "metadata": {},
   "outputs": [
    {
     "data": {
      "text/plain": [
       "'congratul'"
      ]
     },
     "execution_count": 93,
     "metadata": {},
     "output_type": "execute_result"
    }
   ],
   "source": [
    "stemming.stem(\"congratulation\") ## there is a drowback with stemming few words it cant convert into meaningfull words for that lemmatization is used"
   ]
  },
  {
   "cell_type": "markdown",
   "id": "ce377218-9448-4bbd-8f97-641dd57ce13a",
   "metadata": {},
   "source": [
    "### Regexpstemmer class"
   ]
  },
  {
   "cell_type": "code",
   "execution_count": 95,
   "id": "1f6397f0-dd60-404e-acdf-a13391e53073",
   "metadata": {},
   "outputs": [],
   "source": [
    "from nltk.stem import RegexpStemmer"
   ]
  },
  {
   "cell_type": "code",
   "execution_count": 106,
   "id": "1b0691b8-cfb6-4b27-8464-c6c894e3338a",
   "metadata": {},
   "outputs": [],
   "source": [
    "reg_stemmer=RegexpStemmer(\"ing$|s$|e$|able$\",min=4) ## it will remove from last letters "
   ]
  },
  {
   "cell_type": "code",
   "execution_count": 107,
   "id": "6564f741-7c3e-4580-a83b-d95927a446a3",
   "metadata": {},
   "outputs": [
    {
     "data": {
      "text/plain": [
       "'eat'"
      ]
     },
     "execution_count": 107,
     "metadata": {},
     "output_type": "execute_result"
    }
   ],
   "source": [
    "reg_stemmer.stem(\"eating\")"
   ]
  },
  {
   "cell_type": "markdown",
   "id": "3abb5f51-d9d2-47a8-9f58-8314abc91ba0",
   "metadata": {},
   "source": [
    "### Snowball Stemmer"
   ]
  },
  {
   "cell_type": "code",
   "execution_count": 109,
   "id": "e58246f7-afce-4cc6-8561-c60a5088fa58",
   "metadata": {},
   "outputs": [],
   "source": [
    "from nltk.stem import SnowballStemmer ## with snowball stemmer few word will give good results compare to PorterStemmer"
   ]
  },
  {
   "cell_type": "code",
   "execution_count": 136,
   "id": "96cefe8b-d2ee-4a62-89e5-234adfb65677",
   "metadata": {},
   "outputs": [],
   "source": [
    "snowballstemmer=SnowballStemmer(\"english\")"
   ]
  },
  {
   "cell_type": "code",
   "execution_count": 115,
   "id": "883c7ffd-2734-424f-9699-c2417840eba4",
   "metadata": {},
   "outputs": [
    {
     "name": "stdout",
     "output_type": "stream",
     "text": [
      "eating---->eat\n",
      "eats---->eat\n",
      "eaten---->eaten\n",
      "writing---->write\n",
      "programming---->program\n",
      "programs---->program\n",
      "history---->histori\n",
      "finally---->final\n",
      "finalized---->final\n"
     ]
    }
   ],
   "source": [
    "for word in words:\n",
    "    print(word+\"---->\"+snowballstemmer.stem(word))"
   ]
  },
  {
   "cell_type": "code",
   "execution_count": 116,
   "id": "fd91ed85-40bc-426d-991a-73159689117f",
   "metadata": {},
   "outputs": [
    {
     "data": {
      "text/plain": [
       "('fairli', 'sportingli')"
      ]
     },
     "execution_count": 116,
     "metadata": {},
     "output_type": "execute_result"
    }
   ],
   "source": [
    "stemming.stem(\"fairly\"),stemming.stem(\"sportingly\")"
   ]
  },
  {
   "cell_type": "code",
   "execution_count": 118,
   "id": "0e415158-a385-490a-a69d-8f3634422264",
   "metadata": {},
   "outputs": [
    {
     "data": {
      "text/plain": [
       "('fair', 'sport')"
      ]
     },
     "execution_count": 118,
     "metadata": {},
     "output_type": "execute_result"
    }
   ],
   "source": [
    "snowballstemmer.stem(\"fairly\"),snowballstemmer.stem(\"sportingly\")"
   ]
  },
  {
   "cell_type": "code",
   "execution_count": 120,
   "id": "646d0e5d-7c96-47e2-a213-e106baa85b03",
   "metadata": {},
   "outputs": [
    {
     "data": {
      "text/plain": [
       "'goe'"
      ]
     },
     "execution_count": 120,
     "metadata": {},
     "output_type": "execute_result"
    }
   ],
   "source": [
    "snowballstemmer.stem(\"goes\")  ## still its is not performing will with few words for that we will use lemmatization"
   ]
  },
  {
   "cell_type": "markdown",
   "id": "074d5333-80e8-4353-b6d8-d41f18064185",
   "metadata": {},
   "source": [
    "## Wordnet Lemmatizer"
   ]
  },
  {
   "cell_type": "code",
   "execution_count": 128,
   "id": "96e63d4f-b478-4304-8652-a76549f4acf2",
   "metadata": {},
   "outputs": [
    {
     "name": "stderr",
     "output_type": "stream",
     "text": [
      "[nltk_data] Downloading package wordnet to\n",
      "[nltk_data]     C:\\Users\\2252288\\AppData\\Roaming\\nltk_data...\n"
     ]
    },
    {
     "data": {
      "text/plain": [
       "True"
      ]
     },
     "execution_count": 128,
     "metadata": {},
     "output_type": "execute_result"
    }
   ],
   "source": [
    "from nltk.stem import WordNetLemmatizer\n",
    "nltk.download('wordnet')"
   ]
  },
  {
   "cell_type": "code",
   "execution_count": 129,
   "id": "70eabe01-d4a6-47ea-b408-681977462e9f",
   "metadata": {},
   "outputs": [],
   "source": [
    "lemmatizer=WordNetLemmatizer()"
   ]
  },
  {
   "cell_type": "code",
   "execution_count": 133,
   "id": "ff94e789-8092-4dc9-952d-462dfa351b9d",
   "metadata": {},
   "outputs": [
    {
     "data": {
      "text/plain": [
       "'go'"
      ]
     },
     "execution_count": 133,
     "metadata": {},
     "output_type": "execute_result"
    }
   ],
   "source": [
    "\n",
    "'''\n",
    "POS-Noun-n\n",
    "verb-v\n",
    "adjective-a\n",
    "adverb-r\n",
    "'''\n",
    "lemmatizer.lemmatize(\"going\",pos=\"v\")"
   ]
  },
  {
   "cell_type": "code",
   "execution_count": 135,
   "id": "c92b195c-17da-4462-937c-32e5dd110ab4",
   "metadata": {},
   "outputs": [
    {
     "name": "stdout",
     "output_type": "stream",
     "text": [
      "eating---->eat\n",
      "eats---->eat\n",
      "eaten---->eat\n",
      "writing---->write\n",
      "programming---->program\n",
      "programs---->program\n",
      "history---->history\n",
      "finally---->finally\n",
      "finalized---->finalize\n"
     ]
    }
   ],
   "source": [
    "for word in words:\n",
    "    print(word+\"---->\"+lemmatizer.lemmatize(word,pos=\"v\"))"
   ]
  },
  {
   "cell_type": "code",
   "execution_count": 189,
   "id": "5f66c402-8ece-4b86-8cdc-811c7fd9b876",
   "metadata": {},
   "outputs": [],
   "source": [
    "corpus=\"\"\"\n",
    "I have three visions for India. In 3000 years of our history people from all over the world have come and invaded us, captured our lands, conquered our minds. From Alexander onwards the Greeks, the Turks, the Moguls, the Portuguese, the British, the French, the Dutch, all of them came and looted us, took over what was ours. Yet we have not done this to any other nation.\n",
    "We have not conquered anyone. We have not grabbed their land, their culture and their history and tried to enforce our way of life on them. Why? Because we respect the freedom of others. That is why my FIRST VISION is that of FREEDOM. I believe that India got its first vision of this in 1857, when we started the war of Independence. It is this freedom that we must protect and nurture and build on. If we are not free, no one will respect us.\n",
    "We have 10 percent growth rate in most areas. Our poverty levels are falling. Our achievements are being globally recognised today. Yet we lack the self-confidence to see ourselves as a developed nation, self-reliant and self-assured. Isn’t this incorrect? MY SECOND VISION for India is DEVELOPMENT. For fifty years we have been a developing nation. It is time we see ourselves as a developed nation. We are among top five nations in the world in terms of GDP.\n",
    "I have a THIRD VISION. India must stand up to the world. Because I believe that unless India stands up to the world, no one will respect us. Only strength respects strength. We must be strong not only as a military power but also as an economic power. Both must go hand-in-hand. My good fortune was to have worked with three great minds. Dr.Vikram Sarabhai, of the Dept. of Space, Professor Satish Dhawan, who succeeded him and Dr. Brahm Prakash, father of nuclear material. I was lucky to have worked with all three of them closely and consider this the great opportunity of my life.\n",
    "\"\"\""
   ]
  },
  {
   "cell_type": "code",
   "execution_count": 190,
   "id": "ae379ab5-eea1-496c-9a31-57767885a764",
   "metadata": {},
   "outputs": [
    {
     "name": "stdout",
     "output_type": "stream",
     "text": [
      "\n",
      "I have three visions for India. In 3000 years of our history people from all over the world have come and invaded us, captured our lands, conquered our minds. From Alexander onwards the Greeks, the Turks, the Moguls, the Portuguese, the British, the French, the Dutch, all of them came and looted us, took over what was ours. Yet we have not done this to any other nation.\n",
      "We have not conquered anyone. We have not grabbed their land, their culture and their history and tried to enforce our way of life on them. Why? Because we respect the freedom of others. That is why my FIRST VISION is that of FREEDOM. I believe that India got its first vision of this in 1857, when we started the war of Independence. It is this freedom that we must protect and nurture and build on. If we are not free, no one will respect us.\n",
      "We have 10 percent growth rate in most areas. Our poverty levels are falling. Our achievements are being globally recognised today. Yet we lack the self-confidence to see ourselves as a developed nation, self-reliant and self-assured. Isn’t this incorrect? MY SECOND VISION for India is DEVELOPMENT. For fifty years we have been a developing nation. It is time we see ourselves as a developed nation. We are among top five nations in the world in terms of GDP.\n",
      "I have a THIRD VISION. India must stand up to the world. Because I believe that unless India stands up to the world, no one will respect us. Only strength respects strength. We must be strong not only as a military power but also as an economic power. Both must go hand-in-hand. My good fortune was to have worked with three great minds. Dr.Vikram Sarabhai, of the Dept. of Space, Professor Satish Dhawan, who succeeded him and Dr. Brahm Prakash, father of nuclear material. I was lucky to have worked with all three of them closely and consider this the great opportunity of my life.\n",
      "\n"
     ]
    }
   ],
   "source": [
    "print(corpus)"
   ]
  },
  {
   "cell_type": "code",
   "execution_count": 191,
   "id": "78a02d29-32ab-4970-9411-164ca2d3bf88",
   "metadata": {},
   "outputs": [],
   "source": [
    "sentences=sent_tokenize(corpus)"
   ]
  },
  {
   "cell_type": "code",
   "execution_count": 192,
   "id": "9aad3bea-ef5b-4244-9041-42270f23a95d",
   "metadata": {},
   "outputs": [
    {
     "data": {
      "text/plain": [
       "['\\nI have three visions for India.',\n",
       " 'In 3000 years of our history people from all over the world have come and invaded us, captured our lands, conquered our minds.',\n",
       " 'From Alexander onwards the Greeks, the Turks, the Moguls, the Portuguese, the British, the French, the Dutch, all of them came and looted us, took over what was ours.',\n",
       " 'Yet we have not done this to any other nation.',\n",
       " 'We have not conquered anyone.',\n",
       " 'We have not grabbed their land, their culture and their history and tried to enforce our way of life on them.',\n",
       " 'Why?',\n",
       " 'Because we respect the freedom of others.',\n",
       " 'That is why my FIRST VISION is that of FREEDOM.',\n",
       " 'I believe that India got its first vision of this in 1857, when we started the war of Independence.',\n",
       " 'It is this freedom that we must protect and nurture and build on.',\n",
       " 'If we are not free, no one will respect us.',\n",
       " 'We have 10 percent growth rate in most areas.',\n",
       " 'Our poverty levels are falling.',\n",
       " 'Our achievements are being globally recognised today.',\n",
       " 'Yet we lack the self-confidence to see ourselves as a developed nation, self-reliant and self-assured.',\n",
       " 'Isn’t this incorrect?',\n",
       " 'MY SECOND VISION for India is DEVELOPMENT.',\n",
       " 'For fifty years we have been a developing nation.',\n",
       " 'It is time we see ourselves as a developed nation.',\n",
       " 'We are among top five nations in the world in terms of GDP.',\n",
       " 'I have a THIRD VISION.',\n",
       " 'India must stand up to the world.',\n",
       " 'Because I believe that unless India stands up to the world, no one will respect us.',\n",
       " 'Only strength respects strength.',\n",
       " 'We must be strong not only as a military power but also as an economic power.',\n",
       " 'Both must go hand-in-hand.',\n",
       " 'My good fortune was to have worked with three great minds.',\n",
       " 'Dr.Vikram Sarabhai, of the Dept.',\n",
       " 'of Space, Professor Satish Dhawan, who succeeded him and Dr. Brahm Prakash, father of nuclear material.',\n",
       " 'I was lucky to have worked with all three of them closely and consider this the great opportunity of my life.']"
      ]
     },
     "execution_count": 192,
     "metadata": {},
     "output_type": "execute_result"
    }
   ],
   "source": [
    "sentences"
   ]
  },
  {
   "cell_type": "code",
   "execution_count": 193,
   "id": "812168ab-a72d-4654-9996-8d1e54c8a66e",
   "metadata": {},
   "outputs": [],
   "source": [
    "from nltk.stem import PorterStemmer\n",
    "from nltk.stem import SnowballStemmer\n",
    "from nltk.stem import WordNetLemmatizer"
   ]
  },
  {
   "cell_type": "code",
   "execution_count": 194,
   "id": "47a52208-e3e4-4d0e-9bfd-dd79dd10e182",
   "metadata": {},
   "outputs": [
    {
     "name": "stderr",
     "output_type": "stream",
     "text": [
      "[nltk_data] Downloading package stopwords to\n",
      "[nltk_data]     C:\\Users\\2252288\\AppData\\Roaming\\nltk_data...\n",
      "[nltk_data]   Package stopwords is already up-to-date!\n"
     ]
    },
    {
     "data": {
      "text/plain": [
       "True"
      ]
     },
     "execution_count": 194,
     "metadata": {},
     "output_type": "execute_result"
    }
   ],
   "source": [
    "from nltk.corpus import stopwords\n",
    "nltk.download(\"stopwords\")"
   ]
  },
  {
   "cell_type": "code",
   "execution_count": 195,
   "id": "ed7fa8f4-adab-4dbe-8d5f-8f6649a7fb6c",
   "metadata": {},
   "outputs": [
    {
     "data": {
      "text/plain": [
       "['a',\n",
       " 'about',\n",
       " 'above',\n",
       " 'after',\n",
       " 'again',\n",
       " 'against',\n",
       " 'ain',\n",
       " 'all',\n",
       " 'am',\n",
       " 'an',\n",
       " 'and',\n",
       " 'any',\n",
       " 'are',\n",
       " 'aren',\n",
       " \"aren't\",\n",
       " 'as',\n",
       " 'at',\n",
       " 'be',\n",
       " 'because',\n",
       " 'been',\n",
       " 'before',\n",
       " 'being',\n",
       " 'below',\n",
       " 'between',\n",
       " 'both',\n",
       " 'but',\n",
       " 'by',\n",
       " 'can',\n",
       " 'couldn',\n",
       " \"couldn't\",\n",
       " 'd',\n",
       " 'did',\n",
       " 'didn',\n",
       " \"didn't\",\n",
       " 'do',\n",
       " 'does',\n",
       " 'doesn',\n",
       " \"doesn't\",\n",
       " 'doing',\n",
       " 'don',\n",
       " \"don't\",\n",
       " 'down',\n",
       " 'during',\n",
       " 'each',\n",
       " 'few',\n",
       " 'for',\n",
       " 'from',\n",
       " 'further',\n",
       " 'had',\n",
       " 'hadn',\n",
       " \"hadn't\",\n",
       " 'has',\n",
       " 'hasn',\n",
       " \"hasn't\",\n",
       " 'have',\n",
       " 'haven',\n",
       " \"haven't\",\n",
       " 'having',\n",
       " 'he',\n",
       " \"he'd\",\n",
       " \"he'll\",\n",
       " 'her',\n",
       " 'here',\n",
       " 'hers',\n",
       " 'herself',\n",
       " \"he's\",\n",
       " 'him',\n",
       " 'himself',\n",
       " 'his',\n",
       " 'how',\n",
       " 'i',\n",
       " \"i'd\",\n",
       " 'if',\n",
       " \"i'll\",\n",
       " \"i'm\",\n",
       " 'in',\n",
       " 'into',\n",
       " 'is',\n",
       " 'isn',\n",
       " \"isn't\",\n",
       " 'it',\n",
       " \"it'd\",\n",
       " \"it'll\",\n",
       " \"it's\",\n",
       " 'its',\n",
       " 'itself',\n",
       " \"i've\",\n",
       " 'just',\n",
       " 'll',\n",
       " 'm',\n",
       " 'ma',\n",
       " 'me',\n",
       " 'mightn',\n",
       " \"mightn't\",\n",
       " 'more',\n",
       " 'most',\n",
       " 'mustn',\n",
       " \"mustn't\",\n",
       " 'my',\n",
       " 'myself',\n",
       " 'needn',\n",
       " \"needn't\",\n",
       " 'no',\n",
       " 'nor',\n",
       " 'not',\n",
       " 'now',\n",
       " 'o',\n",
       " 'of',\n",
       " 'off',\n",
       " 'on',\n",
       " 'once',\n",
       " 'only',\n",
       " 'or',\n",
       " 'other',\n",
       " 'our',\n",
       " 'ours',\n",
       " 'ourselves',\n",
       " 'out',\n",
       " 'over',\n",
       " 'own',\n",
       " 're',\n",
       " 's',\n",
       " 'same',\n",
       " 'shan',\n",
       " \"shan't\",\n",
       " 'she',\n",
       " \"she'd\",\n",
       " \"she'll\",\n",
       " \"she's\",\n",
       " 'should',\n",
       " 'shouldn',\n",
       " \"shouldn't\",\n",
       " \"should've\",\n",
       " 'so',\n",
       " 'some',\n",
       " 'such',\n",
       " 't',\n",
       " 'than',\n",
       " 'that',\n",
       " \"that'll\",\n",
       " 'the',\n",
       " 'their',\n",
       " 'theirs',\n",
       " 'them',\n",
       " 'themselves',\n",
       " 'then',\n",
       " 'there',\n",
       " 'these',\n",
       " 'they',\n",
       " \"they'd\",\n",
       " \"they'll\",\n",
       " \"they're\",\n",
       " \"they've\",\n",
       " 'this',\n",
       " 'those',\n",
       " 'through',\n",
       " 'to',\n",
       " 'too',\n",
       " 'under',\n",
       " 'until',\n",
       " 'up',\n",
       " 've',\n",
       " 'very',\n",
       " 'was',\n",
       " 'wasn',\n",
       " \"wasn't\",\n",
       " 'we',\n",
       " \"we'd\",\n",
       " \"we'll\",\n",
       " \"we're\",\n",
       " 'were',\n",
       " 'weren',\n",
       " \"weren't\",\n",
       " \"we've\",\n",
       " 'what',\n",
       " 'when',\n",
       " 'where',\n",
       " 'which',\n",
       " 'while',\n",
       " 'who',\n",
       " 'whom',\n",
       " 'why',\n",
       " 'will',\n",
       " 'with',\n",
       " 'won',\n",
       " \"won't\",\n",
       " 'wouldn',\n",
       " \"wouldn't\",\n",
       " 'y',\n",
       " 'you',\n",
       " \"you'd\",\n",
       " \"you'll\",\n",
       " 'your',\n",
       " \"you're\",\n",
       " 'yours',\n",
       " 'yourself',\n",
       " 'yourselves',\n",
       " \"you've\"]"
      ]
     },
     "execution_count": 195,
     "metadata": {},
     "output_type": "execute_result"
    }
   ],
   "source": [
    "stopwords.words(\"english\")"
   ]
  },
  {
   "cell_type": "code",
   "execution_count": 183,
   "id": "eb78a35f-2ac1-4402-926a-ff5a7ad48683",
   "metadata": {},
   "outputs": [],
   "source": [
    "stemmer=PorterStemmer()\n"
   ]
  },
  {
   "cell_type": "code",
   "execution_count": 184,
   "id": "07186d12-1c5e-45c2-ac6f-5e50333f2c4e",
   "metadata": {},
   "outputs": [],
   "source": [
    "## Apply stopwords and filter and then apply stemming\n",
    "processed_sentences=[]\n",
    "for sentence in sentences:\n",
    "    words=word_tokenize(sentence)\n",
    "    words=[stemmer.stem(word) for word in words if word.lower() not in set(stopwords.words(\"english\"))]\n",
    "    processed_sentences.append(\" \".join(words))  # convert all the list of words into sentences"
   ]
  },
  {
   "cell_type": "code",
   "execution_count": 185,
   "id": "86020322-edb8-44ee-bc97-1125a5eb9467",
   "metadata": {},
   "outputs": [
    {
     "name": "stdout",
     "output_type": "stream",
     "text": [
      "['three vision india .', '3000 year histori peopl world come invad us , captur land , conquer mind .', 'alexand onward greek , turk , mogul , portugues , british , french , dutch , came loot us , took .', 'yet done nation .', 'conquer anyon .', 'grab land , cultur histori tri enforc way life .', '?', 'respect freedom other .', 'first vision freedom .', 'believ india got first vision 1857 , start war independ .', 'freedom must protect nurtur build .', 'free , one respect us .', '10 percent growth rate area .', 'poverti level fall .', 'achiev global recognis today .', 'yet lack self-confid see develop nation , self-reli self-assur .', '’ incorrect ?', 'second vision india develop .', 'fifti year develop nation .', 'time see develop nation .', 'among top five nation world term gdp .', 'third vision .', 'india must stand world .', 'believ unless india stand world , one respect us .', 'strength respect strength .', 'must strong militari power also econom power .', 'must go hand-in-hand .', 'good fortun work three great mind .', 'dr.vikram sarabhai , dept .', 'space , professor satish dhawan , succeed dr. brahm prakash , father nuclear materi .', 'lucki work three close consid great opportun life .']\n"
     ]
    }
   ],
   "source": [
    "print(processed_sentences)"
   ]
  },
  {
   "cell_type": "code",
   "execution_count": 196,
   "id": "459d66fc-4049-4f07-8774-bb1229383160",
   "metadata": {},
   "outputs": [],
   "source": [
    "snawballstemmer=SnowballStemmer(\"english\")"
   ]
  },
  {
   "cell_type": "code",
   "execution_count": 197,
   "id": "2a171394-652a-496a-ab7a-148044835744",
   "metadata": {},
   "outputs": [],
   "source": [
    "## Apply stopwords and filter and then apply snowball stemming\n",
    "processed_sentences=[]\n",
    "for sentence in sentences:\n",
    "    words=word_tokenize(sentence)\n",
    "    words=[snowballstemmer.stem(word) for word in words if word.lower() not in set(stopwords.words(\"english\"))]\n",
    "    processed_sentences.append(\" \".join(words))  # convert all the list of words into sentences"
   ]
  },
  {
   "cell_type": "code",
   "execution_count": 198,
   "id": "0a4b482a-aaf6-4170-bb36-485eadea7b9d",
   "metadata": {},
   "outputs": [
    {
     "name": "stdout",
     "output_type": "stream",
     "text": [
      "['three vision india .', '3000 year histori peopl world come invad us , captur land , conquer mind .', 'alexand onward greek , turk , mogul , portugues , british , french , dutch , came loot us , took .', 'yet done nation .', 'conquer anyon .', 'grab land , cultur histori tri enforc way life .', '?', 'respect freedom other .', 'first vision freedom .', 'believ india got first vision 1857 , start war independ .', 'freedom must protect nurtur build .', 'free , one respect us .', '10 percent growth rate area .', 'poverti level fall .', 'achiev global recognis today .', 'yet lack self-confid see develop nation , self-reli self-assur .', '’ incorrect ?', 'second vision india develop .', 'fifti year develop nation .', 'time see develop nation .', 'among top five nation world term gdp .', 'third vision .', 'india must stand world .', 'believ unless india stand world , one respect us .', 'strength respect strength .', 'must strong militari power also econom power .', 'must go hand-in-hand .', 'good fortun work three great mind .', 'dr.vikram sarabhai , dept .', 'space , professor satish dhawan , succeed dr. brahm prakash , father nuclear materi .', 'lucki work three close consid great opportun life .']\n"
     ]
    }
   ],
   "source": [
    "print(processed_sentences)"
   ]
  },
  {
   "cell_type": "code",
   "execution_count": 199,
   "id": "a478f918-2c07-426b-a447-3562223d7219",
   "metadata": {},
   "outputs": [],
   "source": [
    "lemmatizer=WordNetLemmatizer()"
   ]
  },
  {
   "cell_type": "code",
   "execution_count": 201,
   "id": "9692dd25-da21-451c-9873-ef9292bffcc3",
   "metadata": {},
   "outputs": [],
   "source": [
    "## Apply stopwords and filter and then lemmatizer stemming\n",
    "processed_sentences=[]\n",
    "for sentence in sentences:\n",
    "    words=word_tokenize(sentence)\n",
    "    words=[lemmatizer.lemmatize(word) for word in words if word.lower() not in set(stopwords.words(\"english\"))]\n",
    "    processed_sentences.append(\" \".join(words))  # convert all the list of words into sentences"
   ]
  },
  {
   "cell_type": "code",
   "execution_count": 202,
   "id": "c386c7e7-b910-49b2-b774-d97c501df581",
   "metadata": {},
   "outputs": [
    {
     "name": "stdout",
     "output_type": "stream",
     "text": [
      "['three vision India .', '3000 year history people world come invaded u , captured land , conquered mind .', 'Alexander onwards Greeks , Turks , Moguls , Portuguese , British , French , Dutch , came looted u , took .', 'Yet done nation .', 'conquered anyone .', 'grabbed land , culture history tried enforce way life .', '?', 'respect freedom others .', 'FIRST VISION FREEDOM .', 'believe India got first vision 1857 , started war Independence .', 'freedom must protect nurture build .', 'free , one respect u .', '10 percent growth rate area .', 'poverty level falling .', 'achievement globally recognised today .', 'Yet lack self-confidence see developed nation , self-reliant self-assured .', '’ incorrect ?', 'SECOND VISION India DEVELOPMENT .', 'fifty year developing nation .', 'time see developed nation .', 'among top five nation world term GDP .', 'THIRD VISION .', 'India must stand world .', 'believe unless India stand world , one respect u .', 'strength respect strength .', 'must strong military power also economic power .', 'must go hand-in-hand .', 'good fortune worked three great mind .', 'Dr.Vikram Sarabhai , Dept .', 'Space , Professor Satish Dhawan , succeeded Dr. Brahm Prakash , father nuclear material .', 'lucky worked three closely consider great opportunity life .']\n"
     ]
    }
   ],
   "source": [
    "print(processed_sentences)"
   ]
  },
  {
   "cell_type": "markdown",
   "id": "56cd147b-721f-44fe-b007-6ae68eb741b0",
   "metadata": {},
   "source": [
    "## Parts of speach Tagging"
   ]
  },
  {
   "cell_type": "code",
   "execution_count": 203,
   "id": "80a49fb1-c473-44df-8e6b-2ee7c9d14d3f",
   "metadata": {},
   "outputs": [
    {
     "data": {
      "text/plain": [
       "'Taj Mahal is a beautiful monument'"
      ]
     },
     "execution_count": 203,
     "metadata": {},
     "output_type": "execute_result"
    }
   ],
   "source": [
    "\"Taj Mahal is a beautiful monument\""
   ]
  },
  {
   "cell_type": "code",
   "execution_count": 208,
   "id": "0b06dbab-187b-47b4-9f1d-e68cdd34292d",
   "metadata": {},
   "outputs": [
    {
     "name": "stderr",
     "output_type": "stream",
     "text": [
      "[nltk_data] Downloading package averaged_perceptron_tagger to\n",
      "[nltk_data]     C:\\Users\\2252288\\AppData\\Roaming\\nltk_data...\n",
      "[nltk_data]   Unzipping taggers\\averaged_perceptron_tagger.zip.\n"
     ]
    },
    {
     "data": {
      "text/plain": [
       "True"
      ]
     },
     "execution_count": 208,
     "metadata": {},
     "output_type": "execute_result"
    }
   ],
   "source": [
    "from nltk.tokenize import sent_tokenize\n",
    "nltk.download('averaged_perceptron_tagger')"
   ]
  },
  {
   "cell_type": "code",
   "execution_count": 209,
   "id": "0a9be95f-1ce6-48ea-a325-64b3750b1feb",
   "metadata": {},
   "outputs": [],
   "source": [
    "sentences=sent_tokenize(corpus)"
   ]
  },
  {
   "cell_type": "code",
   "execution_count": 210,
   "id": "2659e0bc-132a-4e16-892a-908d80132bc2",
   "metadata": {},
   "outputs": [],
   "source": [
    "## we will find the POS Tagss\n",
    "processed_sentences=[]\n",
    "for sentence in sentences:\n",
    "    words=word_tokenize(sentence)\n",
    "    words=[word for word in words if word.lower() not in set(stopwords.words(\"english\"))]\n",
    "    pos_tag=nltk.pos_tag(words)\n",
    "    processed_sentences.append(pos_tag)\n",
    "    "
   ]
  },
  {
   "cell_type": "code",
   "execution_count": 211,
   "id": "cf2b5101-bdcf-4f21-bf36-d432417a0181",
   "metadata": {},
   "outputs": [
    {
     "data": {
      "text/plain": [
       "[[('three', 'CD'), ('visions', 'NNS'), ('India', 'NNP'), ('.', '.')],\n",
       " [('3000', 'CD'),\n",
       "  ('years', 'NNS'),\n",
       "  ('history', 'NN'),\n",
       "  ('people', 'NNS'),\n",
       "  ('world', 'NN'),\n",
       "  ('come', 'VBP'),\n",
       "  ('invaded', 'VBN'),\n",
       "  ('us', 'PRP'),\n",
       "  (',', ','),\n",
       "  ('captured', 'VBD'),\n",
       "  ('lands', 'NNS'),\n",
       "  (',', ','),\n",
       "  ('conquered', 'VBD'),\n",
       "  ('minds', 'NNS'),\n",
       "  ('.', '.')],\n",
       " [('Alexander', 'NNP'),\n",
       "  ('onwards', 'NNS'),\n",
       "  ('Greeks', 'NNP'),\n",
       "  (',', ','),\n",
       "  ('Turks', 'NNP'),\n",
       "  (',', ','),\n",
       "  ('Moguls', 'NNP'),\n",
       "  (',', ','),\n",
       "  ('Portuguese', 'NNP'),\n",
       "  (',', ','),\n",
       "  ('British', 'NNP'),\n",
       "  (',', ','),\n",
       "  ('French', 'NNP'),\n",
       "  (',', ','),\n",
       "  ('Dutch', 'NNP'),\n",
       "  (',', ','),\n",
       "  ('came', 'VBD'),\n",
       "  ('looted', 'JJ'),\n",
       "  ('us', 'PRP'),\n",
       "  (',', ','),\n",
       "  ('took', 'VBD'),\n",
       "  ('.', '.')],\n",
       " [('Yet', 'RB'), ('done', 'VBN'), ('nation', 'NN'), ('.', '.')],\n",
       " [('conquered', 'VBN'), ('anyone', 'NN'), ('.', '.')],\n",
       " [('grabbed', 'JJ'),\n",
       "  ('land', 'NN'),\n",
       "  (',', ','),\n",
       "  ('culture', 'NN'),\n",
       "  ('history', 'NN'),\n",
       "  ('tried', 'VBD'),\n",
       "  ('enforce', 'JJ'),\n",
       "  ('way', 'NN'),\n",
       "  ('life', 'NN'),\n",
       "  ('.', '.')],\n",
       " [('?', '.')],\n",
       " [('respect', 'NN'), ('freedom', 'NN'), ('others', 'NNS'), ('.', '.')],\n",
       " [('FIRST', 'NNP'), ('VISION', 'NNP'), ('FREEDOM', 'NNP'), ('.', '.')],\n",
       " [('believe', 'VB'),\n",
       "  ('India', 'NNP'),\n",
       "  ('got', 'VBD'),\n",
       "  ('first', 'JJ'),\n",
       "  ('vision', 'NN'),\n",
       "  ('1857', 'CD'),\n",
       "  (',', ','),\n",
       "  ('started', 'VBD'),\n",
       "  ('war', 'NN'),\n",
       "  ('Independence', 'NN'),\n",
       "  ('.', '.')],\n",
       " [('freedom', 'NN'),\n",
       "  ('must', 'MD'),\n",
       "  ('protect', 'VB'),\n",
       "  ('nurture', 'NN'),\n",
       "  ('build', 'NN'),\n",
       "  ('.', '.')],\n",
       " [('free', 'JJ'),\n",
       "  (',', ','),\n",
       "  ('one', 'CD'),\n",
       "  ('respect', 'NN'),\n",
       "  ('us', 'PRP'),\n",
       "  ('.', '.')],\n",
       " [('10', 'CD'),\n",
       "  ('percent', 'JJ'),\n",
       "  ('growth', 'NN'),\n",
       "  ('rate', 'NN'),\n",
       "  ('areas', 'NNS'),\n",
       "  ('.', '.')],\n",
       " [('poverty', 'NN'), ('levels', 'NNS'), ('falling', 'VBG'), ('.', '.')],\n",
       " [('achievements', 'NNS'),\n",
       "  ('globally', 'RB'),\n",
       "  ('recognised', 'VBN'),\n",
       "  ('today', 'NN'),\n",
       "  ('.', '.')],\n",
       " [('Yet', 'RB'),\n",
       "  ('lack', 'JJ'),\n",
       "  ('self-confidence', 'NN'),\n",
       "  ('see', 'NN'),\n",
       "  ('developed', 'JJ'),\n",
       "  ('nation', 'NN'),\n",
       "  (',', ','),\n",
       "  ('self-reliant', 'JJ'),\n",
       "  ('self-assured', 'JJ'),\n",
       "  ('.', '.')],\n",
       " [('’', 'NN'), ('incorrect', 'NN'), ('?', '.')],\n",
       " [('SECOND', 'JJ'),\n",
       "  ('VISION', 'NNP'),\n",
       "  ('India', 'NNP'),\n",
       "  ('DEVELOPMENT', 'NNP'),\n",
       "  ('.', '.')],\n",
       " [('fifty', 'JJ'),\n",
       "  ('years', 'NNS'),\n",
       "  ('developing', 'VBG'),\n",
       "  ('nation', 'NN'),\n",
       "  ('.', '.')],\n",
       " [('time', 'NN'),\n",
       "  ('see', 'VB'),\n",
       "  ('developed', 'JJ'),\n",
       "  ('nation', 'NN'),\n",
       "  ('.', '.')],\n",
       " [('among', 'IN'),\n",
       "  ('top', 'JJ'),\n",
       "  ('five', 'CD'),\n",
       "  ('nations', 'NNS'),\n",
       "  ('world', 'NN'),\n",
       "  ('terms', 'NNS'),\n",
       "  ('GDP', 'NNP'),\n",
       "  ('.', '.')],\n",
       " [('THIRD', 'JJ'), ('VISION', 'NNP'), ('.', '.')],\n",
       " [('India', 'NNP'),\n",
       "  ('must', 'MD'),\n",
       "  ('stand', 'VB'),\n",
       "  ('world', 'NN'),\n",
       "  ('.', '.')],\n",
       " [('believe', 'VB'),\n",
       "  ('unless', 'IN'),\n",
       "  ('India', 'NNP'),\n",
       "  ('stands', 'VBZ'),\n",
       "  ('world', 'NN'),\n",
       "  (',', ','),\n",
       "  ('one', 'CD'),\n",
       "  ('respect', 'NN'),\n",
       "  ('us', 'PRP'),\n",
       "  ('.', '.')],\n",
       " [('strength', 'NN'), ('respects', 'NNS'), ('strength', 'NN'), ('.', '.')],\n",
       " [('must', 'MD'),\n",
       "  ('strong', 'JJ'),\n",
       "  ('military', 'JJ'),\n",
       "  ('power', 'NN'),\n",
       "  ('also', 'RB'),\n",
       "  ('economic', 'JJ'),\n",
       "  ('power', 'NN'),\n",
       "  ('.', '.')],\n",
       " [('must', 'MD'), ('go', 'VB'), ('hand-in-hand', 'NN'), ('.', '.')],\n",
       " [('good', 'JJ'),\n",
       "  ('fortune', 'NN'),\n",
       "  ('worked', 'VBD'),\n",
       "  ('three', 'CD'),\n",
       "  ('great', 'JJ'),\n",
       "  ('minds', 'NNS'),\n",
       "  ('.', '.')],\n",
       " [('Dr.Vikram', 'NNP'),\n",
       "  ('Sarabhai', 'NNP'),\n",
       "  (',', ','),\n",
       "  ('Dept', 'NNP'),\n",
       "  ('.', '.')],\n",
       " [('Space', 'NNP'),\n",
       "  (',', ','),\n",
       "  ('Professor', 'NNP'),\n",
       "  ('Satish', 'NNP'),\n",
       "  ('Dhawan', 'NNP'),\n",
       "  (',', ','),\n",
       "  ('succeeded', 'VBD'),\n",
       "  ('Dr.', 'NNP'),\n",
       "  ('Brahm', 'NNP'),\n",
       "  ('Prakash', 'NNP'),\n",
       "  (',', ','),\n",
       "  ('father', 'RB'),\n",
       "  ('nuclear', 'JJ'),\n",
       "  ('material', 'NN'),\n",
       "  ('.', '.')],\n",
       " [('lucky', 'JJ'),\n",
       "  ('worked', 'VBD'),\n",
       "  ('three', 'CD'),\n",
       "  ('closely', 'RB'),\n",
       "  ('consider', 'VBP'),\n",
       "  ('great', 'JJ'),\n",
       "  ('opportunity', 'NN'),\n",
       "  ('life', 'NN'),\n",
       "  ('.', '.')]]"
      ]
     },
     "execution_count": 211,
     "metadata": {},
     "output_type": "execute_result"
    }
   ],
   "source": [
    "processed_sentences"
   ]
  },
  {
   "cell_type": "code",
   "execution_count": 215,
   "id": "9a6c01b7-5777-4bb5-8aa1-050927c5410f",
   "metadata": {},
   "outputs": [
    {
     "name": "stdout",
     "output_type": "stream",
     "text": [
      "[('Taj', 'NNP'), ('Mahal', 'NNP'), ('is', 'VBZ'), ('a', 'DT'), ('beautiful', 'JJ'), ('monument', 'NN')]\n"
     ]
    }
   ],
   "source": [
    "print(nltk.pos_tag(\"Taj Mahal is a beautiful monument\".split()))"
   ]
  },
  {
   "cell_type": "markdown",
   "id": "6735b66d-65d6-4f52-8663-be7739ad0140",
   "metadata": {},
   "source": [
    "## Name Entity Recognition"
   ]
  },
  {
   "cell_type": "code",
   "execution_count": 216,
   "id": "6a76adfe-a90d-4e0f-b76e-d910f03a5e03",
   "metadata": {},
   "outputs": [],
   "source": [
    "sentences=\"Bangalore is the capital city of Karnataka. It is also known as the silicon valley of India. This is because of the thriving IT industry in the city. Bangalore was renamed Bengaluru in 2014. It is one of the most rapidly growing cities in India. It is also a very clean and green pollution free city.\""
   ]
  },
  {
   "cell_type": "code",
   "execution_count": 217,
   "id": "3164beef-fbef-48dc-aba2-0055701eacac",
   "metadata": {},
   "outputs": [],
   "source": [
    "words=word_tokenize(sentences)"
   ]
  },
  {
   "cell_type": "code",
   "execution_count": 218,
   "id": "2206431d-863b-4113-ac06-67e035f6916b",
   "metadata": {},
   "outputs": [
    {
     "data": {
      "text/plain": [
       "['Bangalore',\n",
       " 'is',\n",
       " 'the',\n",
       " 'capital',\n",
       " 'city',\n",
       " 'of',\n",
       " 'Karnataka',\n",
       " '.',\n",
       " 'It',\n",
       " 'is',\n",
       " 'also',\n",
       " 'known',\n",
       " 'as',\n",
       " 'the',\n",
       " 'silicon',\n",
       " 'valley',\n",
       " 'of',\n",
       " 'India',\n",
       " '.',\n",
       " 'This',\n",
       " 'is',\n",
       " 'because',\n",
       " 'of',\n",
       " 'the',\n",
       " 'thriving',\n",
       " 'IT',\n",
       " 'industry',\n",
       " 'in',\n",
       " 'the',\n",
       " 'city',\n",
       " '.',\n",
       " 'Bangalore',\n",
       " 'was',\n",
       " 'renamed',\n",
       " 'Bengaluru',\n",
       " 'in',\n",
       " '2014',\n",
       " '.',\n",
       " 'It',\n",
       " 'is',\n",
       " 'one',\n",
       " 'of',\n",
       " 'the',\n",
       " 'most',\n",
       " 'rapidly',\n",
       " 'growing',\n",
       " 'cities',\n",
       " 'in',\n",
       " 'India',\n",
       " '.',\n",
       " 'It',\n",
       " 'is',\n",
       " 'also',\n",
       " 'a',\n",
       " 'very',\n",
       " 'clean',\n",
       " 'and',\n",
       " 'green',\n",
       " 'pollution',\n",
       " 'free',\n",
       " 'city',\n",
       " '.']"
      ]
     },
     "execution_count": 218,
     "metadata": {},
     "output_type": "execute_result"
    }
   ],
   "source": [
    "words"
   ]
  },
  {
   "cell_type": "code",
   "execution_count": 220,
   "id": "6b31a310-d13c-483c-89d1-ea7b9bd17b4a",
   "metadata": {},
   "outputs": [],
   "source": [
    "tag_elements=nltk.pos_tag(words)"
   ]
  },
  {
   "cell_type": "code",
   "execution_count": 225,
   "id": "7d2a4107-b13e-4997-a8ec-0fbd5253c18f",
   "metadata": {},
   "outputs": [
    {
     "name": "stderr",
     "output_type": "stream",
     "text": [
      "[nltk_data] Downloading package maxent_ne_chunker to\n",
      "[nltk_data]     C:\\Users\\2252288\\AppData\\Roaming\\nltk_data...\n",
      "[nltk_data]   Package maxent_ne_chunker is already up-to-date!\n",
      "[nltk_data] Downloading package words to\n",
      "[nltk_data]     C:\\Users\\2252288\\AppData\\Roaming\\nltk_data...\n",
      "[nltk_data]   Unzipping corpora\\words.zip.\n"
     ]
    },
    {
     "data": {
      "text/plain": [
       "True"
      ]
     },
     "execution_count": 225,
     "metadata": {},
     "output_type": "execute_result"
    }
   ],
   "source": [
    "nltk.download('maxent_ne_chunker')\n",
    "nltk.download('words')"
   ]
  },
  {
   "cell_type": "code",
   "execution_count": 227,
   "id": "05bbd911-c6f9-4c6c-9195-fb05fb84c9ff",
   "metadata": {},
   "outputs": [],
   "source": [
    "nltk.ne_chunk(tag_elements).draw()"
   ]
  },
  {
   "cell_type": "code",
   "execution_count": null,
   "id": "500d9799-d6be-4341-a0ac-b4f09bf24a4e",
   "metadata": {},
   "outputs": [],
   "source": []
  }
 ],
 "metadata": {
  "kernelspec": {
   "display_name": "Python 3 (ipykernel)",
   "language": "python",
   "name": "python3"
  },
  "language_info": {
   "codemirror_mode": {
    "name": "ipython",
    "version": 3
   },
   "file_extension": ".py",
   "mimetype": "text/x-python",
   "name": "python",
   "nbconvert_exporter": "python",
   "pygments_lexer": "ipython3",
   "version": "3.11.7"
  }
 },
 "nbformat": 4,
 "nbformat_minor": 5
}
